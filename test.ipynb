{
 "cells": [
  {
   "cell_type": "code",
   "execution_count": null,
   "id": "8a5d88fb-d52a-47bd-8ebf-605f3bac8fa1",
   "metadata": {},
   "outputs": [],
   "source": [
    "# import the necessary object\n",
    "from simulation import SteBwmSimulation"
   ]
  },
  {
   "cell_type": "code",
   "execution_count": null,
   "id": "6cd32b8f-8ce8-4b58-9881-4863677a80bd",
   "metadata": {},
   "outputs": [],
   "source": [
    "# create an instance of the object with a set of initial parameters\n",
    "test_example = SteBwmSimulation(criteria_no = 6, best_no = 2, worst_no = 1)\n",
    "# set the necessary value for the worst set (used later in the consistency calculation)\n",
    "test_example.value_worst = 7"
   ]
  },
  {
   "cell_type": "code",
   "execution_count": null,
   "id": "0658601e-66d2-4fd8-9305-f8c20da97a90",
   "metadata": {},
   "outputs": [],
   "source": [
    "# examine the created instance of the object\n",
    "print(test_example)"
   ]
  },
  {
   "cell_type": "code",
   "execution_count": null,
   "id": "32ee96be-486d-4a53-9bc0-168528d7c48d",
   "metadata": {},
   "outputs": [],
   "source": [
    "# manually set BTO and OTW vectors in the following format: {'letter': [comma separated list of scores],}\n",
    "# for example bto_vectors = {'a': [7, 1, 4, 3, 1, 5], 'b': [7, 1, 4, 3, 1, 5]}\n",
    "\n",
    "bto_vectors = {'a': [7, 1, 4, 3, 1, 5], 'b': [7, 1, 4, 3, 1, 5]}\n",
    "\n",
    "otw_vectors = {'c': [7, 5, 7, 4, 1, 3]}\n"
   ]
  },
  {
   "cell_type": "code",
   "execution_count": null,
   "id": "4d90f8d3-be8b-4d2f-b931-280c809a36bd",
   "metadata": {},
   "outputs": [],
   "source": [
    "# examine the output of the consistency vectors calculation\n",
    "test_example.calculate_consistency(\n",
    "    bto_vectors,\n",
    "    otw_vectors\n",
    ")"
   ]
  },
  {
   "cell_type": "code",
   "execution_count": null,
   "id": "3468979c-ef7a-471d-9abe-72ee039e5bdc",
   "metadata": {},
   "outputs": [],
   "source": [
    "# run the consistency check on the provided vectors according to the thresholds specified within the class\n",
    "test_example.consistency_check(\n",
    "    test_example.calculate_consistency(\n",
    "    bto_vectors,\n",
    "    otw_vectors\n",
    ")\n",
    ")"
   ]
  },
  {
   "cell_type": "code",
   "execution_count": null,
   "id": "89ad5f85-63ea-41f4-b89a-56e4dfd13a24",
   "metadata": {},
   "outputs": [],
   "source": [
    "# calculate the weights for each vector\n",
    "potential_trees = test_example.generate_trees()\n",
    "resulting_weights = []\n",
    "for each_bto in bto_vectors.items():\n",
    "    for each_otw in otw_vectors.items():\n",
    "        resulting_weights.append(list(test_example.calculate_weights(each_bto,\n",
    "                                                                 each_otw,\n",
    "                                                                 potential_trees,\n",
    "                                                                 mean_type='arithmetic')))"
   ]
  },
  {
   "cell_type": "code",
   "execution_count": null,
   "id": "6ab45c3a-ec06-423d-b40a-f0fe381dad9c",
   "metadata": {},
   "outputs": [],
   "source": [
    "# print the calculated weights\n",
    "resulting_weights"
   ]
  },
  {
   "cell_type": "code",
   "execution_count": null,
   "id": "46b44ae5-fc6b-421a-8d9c-ba3777fe2989",
   "metadata": {},
   "outputs": [],
   "source": [
    "# check that the calculated weights add up to 1\n",
    "total = 0\n",
    "\n",
    "for el in resulting_weights[0]:\n",
    "    total += el\n",
    "    \n",
    "total    "
   ]
  },
  {
   "cell_type": "code",
   "execution_count": null,
   "id": "9fe5fd90-7c1f-4f5b-b0b0-0987182c8cb1",
   "metadata": {},
   "outputs": [],
   "source": [
    "# generate MSTS (a middle step before the weights are calculated, just for illustration purposes)\n",
    "a = test_example.generate_msts(('a', [7, 1, 4, 3, 1, 5]), ('c', [7, 5, 7, 4, 1, 3]), potential_trees)\n",
    "a"
   ]
  }
 ],
 "metadata": {
  "kernelspec": {
   "display_name": "Python 3 (ipykernel)",
   "language": "python",
   "name": "python3"
  },
  "language_info": {
   "codemirror_mode": {
    "name": "ipython",
    "version": 3
   },
   "file_extension": ".py",
   "mimetype": "text/x-python",
   "name": "python",
   "nbconvert_exporter": "python",
   "pygments_lexer": "ipython3",
   "version": "3.8.2"
  }
 },
 "nbformat": 4,
 "nbformat_minor": 5
}
